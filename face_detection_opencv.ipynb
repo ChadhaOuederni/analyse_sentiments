{
 "cells": [
  {
   "cell_type": "code",
   "execution_count": 1,
   "id": "6bbe924f",
   "metadata": {
    "_cell_guid": "f8b94866-82da-498c-a92c-ceba02b12052",
    "_uuid": "85589ed7-5bd1-4a32-b233-59126d9ed10c",
    "collapsed": false,
    "execution": {
     "iopub.execute_input": "2025-03-28T20:28:09.861069Z",
     "iopub.status.busy": "2025-03-28T20:28:09.860570Z",
     "iopub.status.idle": "2025-03-28T20:28:10.460869Z",
     "shell.execute_reply": "2025-03-28T20:28:10.459672Z"
    },
    "jupyter": {
     "outputs_hidden": false
    },
    "papermill": {
     "duration": 0.606002,
     "end_time": "2025-03-28T20:28:10.463179",
     "exception": false,
     "start_time": "2025-03-28T20:28:09.857177",
     "status": "completed"
    },
    "tags": []
   },
   "outputs": [],
   "source": [
    "import cv2\r\n",
    "\r\n",
    "# Charger le classificateur de visages Haar\r\n",
    "face_cascade = cv2.CascadeClassifier(cv2.data.haarcascades + \"haarcascade_frontalface_default.xml\")\r\n",
    "\r\n",
    "# Ouvrir la webcam (0 = caméra intégrée)\r\n",
    "cap = cv2.VideoCapture(0)\r\n",
    "\r\n",
    "while True:\r\n",
    "    # Lire une image de la webcam\r\n",
    "    ret, frame = cap.read()\r\n",
    "    if not ret:\r\n",
    "        break\r\n",
    "\r\n",
    "    # Convertir en niveaux de gris\r\n",
    "    gray = cv2.cvtColor(frame, cv2.COLOR_BGR2GRAY)\r\n",
    "\r\n",
    "    # Détecter les visages\r\n",
    "    faces = face_cascade.detectMultiScale(gray, scaleFactor=1.1, minNeighbors=5, minSize=(30, 30))\r\n",
    "\r\n",
    "    # Dessiner des rectangles autour des visages détectés\r\n",
    "    for (x, y, w, h) in faces:\r\n",
    "        cv2.rectangle(frame, (x, y), (x + w, y + h), (0, 255, 0), 2)\r\n",
    "\r\n",
    "    # Afficher la vidéo en direct avec la détection\r\n",
    "    cv2.imshow(\"Détection Faciale en Temps Réel\", frame)\r\n",
    "\r\n",
    "    # Quitter avec la touche 'q'\r\n",
    "    if cv2.waitKey(1) & 0xFF == ord('q'):\r\n",
    "        break\r\n",
    "\r\n",
    "# Libérer la webcam et fermer les fenêtres\r\n",
    "cap.release()\r\n",
    "cv2.destroyAllWindows()"
   ]
  }
 ],
 "metadata": {
  "kaggle": {
   "accelerator": "none",
   "dataSources": [],
   "isGpuEnabled": false,
   "isInternetEnabled": true,
   "language": "python",
   "sourceType": "notebook"
  },
  "kernelspec": {
   "display_name": "Python 3",
   "language": "python",
   "name": "python3"
  },
  "language_info": {
   "codemirror_mode": {
    "name": "ipython",
    "version": 3
   },
   "file_extension": ".py",
   "mimetype": "text/x-python",
   "name": "python",
   "nbconvert_exporter": "python",
   "pygments_lexer": "ipython3",
   "version": "3.10.12"
  },
  "papermill": {
   "default_parameters": {},
   "duration": 4.155665,
   "end_time": "2025-03-28T20:28:11.085411",
   "environment_variables": {},
   "exception": null,
   "input_path": "__notebook__.ipynb",
   "output_path": "__notebook__.ipynb",
   "parameters": {},
   "start_time": "2025-03-28T20:28:06.929746",
   "version": "2.6.0"
  }
 },
 "nbformat": 4,
 "nbformat_minor": 5
}
